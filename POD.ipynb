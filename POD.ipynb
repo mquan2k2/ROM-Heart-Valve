{
 "cells": [
  {
   "cell_type": "code",
   "execution_count": null,
   "id": "de0eb9c4-a2a4-4eaf-af31-3af4e1b4d52e",
   "metadata": {},
   "outputs": [],
   "source": [
    "# This code will perform perform SVD on the A matrix and extract the relevant coherent structures"
   ]
  },
  {
   "cell_type": "code",
   "execution_count": null,
   "id": "b361c1d2-39aa-456a-ab1f-2e63ce8e2ba3",
   "metadata": {},
   "outputs": [],
   "source": [
    "import numpy as np"
   ]
  },
  {
   "cell_type": "code",
   "execution_count": null,
   "id": "043c6d24-7e80-40db-8572-71ed926c921f",
   "metadata": {},
   "outputs": [],
   "source": [
    "# Load Data"
   ]
  },
  {
   "cell_type": "code",
   "execution_count": null,
   "id": "30247412-67c7-4e2c-8517-1d1cb62a2ce7",
   "metadata": {},
   "outputs": [],
   "source": [
    "# Perform SVD"
   ]
  },
  {
   "cell_type": "code",
   "execution_count": null,
   "id": "0d4564e9-3780-4879-b6bc-cb0b327a4840",
   "metadata": {},
   "outputs": [],
   "source": [
    "# Perform DMD"
   ]
  },
  {
   "cell_type": "code",
   "execution_count": null,
   "id": "fa82dedd-6ebf-40f5-9fa9-432b61a1069a",
   "metadata": {},
   "outputs": [],
   "source": [
    "# Print out modes to .gz files"
   ]
  },
  {
   "cell_type": "code",
   "execution_count": null,
   "id": "629353af-490d-496d-944d-ae8bd9c3e79d",
   "metadata": {},
   "outputs": [],
   "source": [
    "# Plot Log of normalized singular values"
   ]
  }
 ],
 "metadata": {
  "kernelspec": {
   "display_name": "Python [conda env:base] *",
   "language": "python",
   "name": "conda-base-py"
  },
  "language_info": {
   "codemirror_mode": {
    "name": "ipython",
    "version": 3
   },
   "file_extension": ".py",
   "mimetype": "text/x-python",
   "name": "python",
   "nbconvert_exporter": "python",
   "pygments_lexer": "ipython3",
   "version": "3.11.8"
  }
 },
 "nbformat": 4,
 "nbformat_minor": 5
}
