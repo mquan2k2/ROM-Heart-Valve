{
 "cells": [
  {
   "cell_type": "code",
   "execution_count": 1,
   "metadata": {},
   "outputs": [],
   "source": [
    "import numpy as np\n",
    "import os"
   ]
  },
  {
   "cell_type": "code",
   "execution_count": 3,
   "metadata": {},
   "outputs": [
    {
     "name": "stdout",
     "output_type": "stream",
     "text": [
      "Saved full matrix to ./ToyData_Snapshot_Mat.txt\n",
      "Saved column 1 to ./ToyData_Snapshot_1.txt\n",
      "Saved column 2 to ./ToyData_Snapshot_2.txt\n",
      "Saved column 3 to ./ToyData_Snapshot_3.txt\n",
      "Saved column 4 to ./ToyData_Snapshot_4.txt\n",
      "Saved column 5 to ./ToyData_Snapshot_5.txt\n"
     ]
    }
   ],
   "source": [
    "def generate_toy_data(n, m, output_dir=\".\"):\n",
    "    \"\"\"\n",
    "    Generate a random m x n matrix of integers in [1, 10],\n",
    "    save the full matrix and each column in separate files.\n",
    "    \n",
    "    Parameters:\n",
    "    - n (int): Number of columns\n",
    "    - m (int): Number of rows\n",
    "    - output_dir (str): Directory to save the files (default: current)\n",
    "    \"\"\"\n",
    "\n",
    "    # Create output directory if it doesn't exist\n",
    "    os.makedirs(output_dir, exist_ok=True)\n",
    "\n",
    "    # Generate the random matrix\n",
    "    matrix = np.random.randint(1, 11, size=(m, n))\n",
    "\n",
    "    # Save the full matrix\n",
    "    mat_path = os.path.join(output_dir, \"ToyData_Snapshot_Mat.txt\")\n",
    "    np.savetxt(mat_path, matrix, fmt=\"%d\")\n",
    "    print(f\"Saved full matrix to {mat_path}\")\n",
    "\n",
    "    # Save each column with just the index (no zero-padding)\n",
    "    for i in range(n):\n",
    "        col_data = matrix[:, i]\n",
    "        filename = f\"ToyData_Snapshot_{i+1}.txt\"  # Changed line\n",
    "        file_path = os.path.join(output_dir, filename)\n",
    "        np.savetxt(file_path, col_data.reshape(-1, 1), fmt=\"%d\")\n",
    "        print(f\"Saved column {i+1} to {file_path}\")\n",
    "\n",
    "# Example usage\n",
    "if __name__ == \"__main__\":\n",
    "    generate_toy_data(n=5, m=10)"
   ]
  }
 ],
 "metadata": {
  "kernelspec": {
   "display_name": "base",
   "language": "python",
   "name": "python3"
  },
  "language_info": {
   "codemirror_mode": {
    "name": "ipython",
    "version": 3
   },
   "file_extension": ".py",
   "mimetype": "text/x-python",
   "name": "python",
   "nbconvert_exporter": "python",
   "pygments_lexer": "ipython3",
   "version": "3.11.8"
  }
 },
 "nbformat": 4,
 "nbformat_minor": 2
}
