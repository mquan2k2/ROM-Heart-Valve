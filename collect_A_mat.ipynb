{
 "cells": [
  {
   "cell_type": "code",
   "execution_count": null,
   "id": "848f8576-11bb-4c66-8afa-8d9136a7e491",
   "metadata": {},
   "outputs": [],
   "source": [
    "# This code will run across all the flow field files for a given range and collect the data into an A matrix\n",
    "# which will be used for singular value decomposition"
   ]
  },
  {
   "cell_type": "code",
   "execution_count": 1,
   "id": "c46a27d3-e806-495b-8886-403725a8dd81",
   "metadata": {},
   "outputs": [],
   "source": [
    "import numpy as np"
   ]
  },
  {
   "cell_type": "code",
   "execution_count": null,
   "id": "13b1f3b9-63f7-4b1b-94dd-8290c6ac41af",
   "metadata": {},
   "outputs": [],
   "source": [
    "nproc = 169 # Number of Processors Used to Solve for Flow"
   ]
  },
  {
   "cell_type": "code",
   "execution_count": null,
   "id": "693e90cd-fec6-4f94-bfe3-1f6a2ec05410",
   "metadata": {},
   "outputs": [],
   "source": [
    "# Read Flow Files for Given time step"
   ]
  },
  {
   "cell_type": "code",
   "execution_count": null,
   "id": "fd2ab1e7-bf2b-4435-9b92-40f6e63bdf1c",
   "metadata": {},
   "outputs": [],
   "source": [
    "# Read MarkerFiles to get displacement and Marker Velocity"
   ]
  },
  {
   "cell_type": "code",
   "execution_count": null,
   "id": "d1c8e6ea-b720-4b68-9a96-59a102cd899f",
   "metadata": {},
   "outputs": [],
   "source": [
    "# Collect into A Matrix"
   ]
  },
  {
   "cell_type": "code",
   "execution_count": null,
   "id": "14232073-cf7e-4c53-a131-fe6d8816c172",
   "metadata": {},
   "outputs": [],
   "source": [
    "# Print A Matrix to file"
   ]
  }
 ],
 "metadata": {
  "kernelspec": {
   "display_name": "Python [conda env:base] *",
   "language": "python",
   "name": "conda-base-py"
  },
  "language_info": {
   "codemirror_mode": {
    "name": "ipython",
    "version": 3
   },
   "file_extension": ".py",
   "mimetype": "text/x-python",
   "name": "python",
   "nbconvert_exporter": "python",
   "pygments_lexer": "ipython3",
   "version": "3.11.8"
  }
 },
 "nbformat": 4,
 "nbformat_minor": 5
}
